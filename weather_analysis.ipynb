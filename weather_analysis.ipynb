{
  "nbformat": 4,
  "nbformat_minor": 0,
  "metadata": {
    "colab": {
      "name": "weather analysis ",
      "provenance": []
    },
    "kernelspec": {
      "name": "python3",
      "display_name": "Python 3"
    },
    "language_info": {
      "name": "python"
    }
  },
  "cells": [
    {
      "cell_type": "code",
      "metadata": {
        "id": "yo_eYEviyHOc"
      },
      "source": [
        "import requests\n",
        "from datetime import datetime"
      ],
      "execution_count": 1,
      "outputs": []
    },
    {
      "cell_type": "code",
      "metadata": {
        "colab": {
          "base_uri": "https://localhost:8080/"
        },
        "id": "eMu1HfhwyQG6",
        "outputId": "a9976535-c318-446a-b8f6-ca5945d08fdd"
      },
      "source": [
        "api_key='dce42503c25d486d6933c4b42913986e'\n",
        "location=input(\"Jaipur:\")"
      ],
      "execution_count": 3,
      "outputs": [
        {
          "output_type": "stream",
          "text": [
            "Jaipur:Jaipur\n"
          ],
          "name": "stdout"
        }
      ]
    },
    {
      "cell_type": "code",
      "metadata": {
        "id": "dvcJnyMKydrv"
      },
      "source": [
        "complete_apilink=\"https://api.openweathermap.org/data/2.5/weather?q=\"+location+\"&appid=\"+api_key\n",
        "api_link=requests.get(complete_apilink)\n",
        "api_data=api_link.json()"
      ],
      "execution_count": 4,
      "outputs": []
    },
    {
      "cell_type": "code",
      "metadata": {
        "id": "MEVF33EozUGn"
      },
      "source": [
        "# creating variables to stroe display data \n",
        "temp_city= ((api_data['main']['temp'])-273.15)\n",
        "weather_dsc=api_data['weather'][0]['description']\n",
        "hmdt=api_data['main']['humidity']\n",
        "wind_spd=api_data['wind']['speed']\n",
        "date_time=datetime.now().strftime(\"%d %b %Y | %I:%M:%S %p\")"
      ],
      "execution_count": 10,
      "outputs": []
    },
    {
      "cell_type": "code",
      "metadata": {
        "colab": {
          "base_uri": "https://localhost:8080/"
        },
        "id": "XyJ5M9z40W_M",
        "outputId": "91afe7d3-6e9c-42a4-803e-9e809aeb6f44"
      },
      "source": [
        "print('weather stats for-{} || {}'.format(location.upper() , date_time))"
      ],
      "execution_count": 11,
      "outputs": [
        {
          "output_type": "stream",
          "text": [
            "weather stats for-JAIPUR || 23 Jun 2021 | 03:04:22 AM\n"
          ],
          "name": "stdout"
        }
      ]
    },
    {
      "cell_type": "code",
      "metadata": {
        "colab": {
          "base_uri": "https://localhost:8080/"
        },
        "id": "X8FBI-Sl0uQE",
        "outputId": "07e951c3-91fd-4825-e1d4-aaff41df30c9"
      },
      "source": [
        "print('current temprature is : {:.2f} deg C'.format(temp_city))"
      ],
      "execution_count": 12,
      "outputs": [
        {
          "output_type": "stream",
          "text": [
            "current temprature is : 30.62 deg C\n"
          ],
          "name": "stdout"
        }
      ]
    },
    {
      "cell_type": "code",
      "metadata": {
        "colab": {
          "base_uri": "https://localhost:8080/"
        },
        "id": "ENiLPbHW1FEz",
        "outputId": "d7d56061-79e4-4e35-deac-c70d8a375e7b"
      },
      "source": [
        "print(\"current weather dsc :\",weather_dsc)"
      ],
      "execution_count": 15,
      "outputs": [
        {
          "output_type": "stream",
          "text": [
            "current weather dsc : haze\n"
          ],
          "name": "stdout"
        }
      ]
    },
    {
      "cell_type": "code",
      "metadata": {
        "colab": {
          "base_uri": "https://localhost:8080/"
        },
        "id": "wSP0oDFr1Nmz",
        "outputId": "de8c7316-3676-4a90-f7d9-e7379c4a1950"
      },
      "source": [
        "print(\"current humidity  :\" , hmdt , '%')"
      ],
      "execution_count": 16,
      "outputs": [
        {
          "output_type": "stream",
          "text": [
            "current humidity  : 55 %\n"
          ],
          "name": "stdout"
        }
      ]
    },
    {
      "cell_type": "code",
      "metadata": {
        "colab": {
          "base_uri": "https://localhost:8080/"
        },
        "id": "shT4g7va1diS",
        "outputId": "34311265-d2ee-4768-d253-c066c863e15f"
      },
      "source": [
        "print(\"current wind speed :\" , wind_spd , 'kmph')"
      ],
      "execution_count": 17,
      "outputs": [
        {
          "output_type": "stream",
          "text": [
            "current wind speed : 2.57 kmph\n"
          ],
          "name": "stdout"
        }
      ]
    },
    {
      "cell_type": "code",
      "metadata": {
        "id": "Uump07y01mgi"
      },
      "source": [
        ""
      ],
      "execution_count": null,
      "outputs": []
    }
  ]
}